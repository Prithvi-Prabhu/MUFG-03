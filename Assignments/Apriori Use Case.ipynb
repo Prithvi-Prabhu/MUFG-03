{
 "cells": [
  {
   "cell_type": "code",
   "execution_count": 2,
   "id": "08cce676-150d-412d-b1c4-cfa9297667b7",
   "metadata": {},
   "outputs": [
    {
     "ename": "ModuleNotFoundError",
     "evalue": "No module named 'mlxtend'",
     "output_type": "error",
     "traceback": [
      "\u001b[31m---------------------------------------------------------------------------\u001b[39m",
      "\u001b[31mModuleNotFoundError\u001b[39m                       Traceback (most recent call last)",
      "\u001b[36mCell\u001b[39m\u001b[36m \u001b[39m\u001b[32mIn[2]\u001b[39m\u001b[32m, line 3\u001b[39m\n\u001b[32m      1\u001b[39m \u001b[38;5;66;03m# Import required libraries\u001b[39;00m\n\u001b[32m      2\u001b[39m \u001b[38;5;28;01mimport\u001b[39;00m\u001b[38;5;250m \u001b[39m\u001b[34;01mpandas\u001b[39;00m\u001b[38;5;250m \u001b[39m\u001b[38;5;28;01mas\u001b[39;00m\u001b[38;5;250m \u001b[39m\u001b[34;01mpd\u001b[39;00m\n\u001b[32m----> \u001b[39m\u001b[32m3\u001b[39m \u001b[38;5;28;01mfrom\u001b[39;00m\u001b[38;5;250m \u001b[39m\u001b[34;01mmlxtend\u001b[39;00m\u001b[34;01m.\u001b[39;00m\u001b[34;01mfrequent_patterns\u001b[39;00m\u001b[38;5;250m \u001b[39m\u001b[38;5;28;01mimport\u001b[39;00m apriori, association_rules\n\u001b[32m      5\u001b[39m \u001b[38;5;66;03m# -----------------------------\u001b[39;00m\n\u001b[32m      6\u001b[39m \u001b[38;5;66;03m# Step 1: Create sample dataset\u001b[39;00m\n\u001b[32m      7\u001b[39m \u001b[38;5;66;03m# -----------------------------\u001b[39;00m\n\u001b[32m      8\u001b[39m \u001b[38;5;66;03m# Each row represents movies watched by a single user\u001b[39;00m\n\u001b[32m     10\u001b[39m dataset = [\n\u001b[32m     11\u001b[39m     [\u001b[33m'\u001b[39m\u001b[33mAvengers\u001b[39m\u001b[33m'\u001b[39m, \u001b[33m'\u001b[39m\u001b[33mIron Man\u001b[39m\u001b[33m'\u001b[39m, \u001b[33m'\u001b[39m\u001b[33mCaptain America\u001b[39m\u001b[33m'\u001b[39m],\n\u001b[32m     12\u001b[39m     [\u001b[33m'\u001b[39m\u001b[33mAvengers\u001b[39m\u001b[33m'\u001b[39m, \u001b[33m'\u001b[39m\u001b[33mIron Man\u001b[39m\u001b[33m'\u001b[39m, \u001b[33m'\u001b[39m\u001b[33mHulk\u001b[39m\u001b[33m'\u001b[39m],\n\u001b[32m   (...)\u001b[39m\u001b[32m     16\u001b[39m     [\u001b[33m'\u001b[39m\u001b[33mCaptain America\u001b[39m\u001b[33m'\u001b[39m, \u001b[33m'\u001b[39m\u001b[33mThor\u001b[39m\u001b[33m'\u001b[39m, \u001b[33m'\u001b[39m\u001b[33mHulk\u001b[39m\u001b[33m'\u001b[39m]\n\u001b[32m     17\u001b[39m ]\n",
      "\u001b[31mModuleNotFoundError\u001b[39m: No module named 'mlxtend'"
     ]
    }
   ],
   "source": [
    "# Import required libraries\n",
    "import pandas as pd\n",
    "from mlxtend.frequent_patterns import apriori, association_rules\n",
    "\n",
    "# -----------------------------\n",
    "# Step 1: Create sample dataset\n",
    "# -----------------------------\n",
    "# Each row represents movies watched by a single user\n",
    "\n",
    "dataset = [\n",
    "    ['Avengers', 'Iron Man', 'Captain America'],\n",
    "    ['Avengers', 'Iron Man', 'Hulk'],\n",
    "    ['Avengers', 'Captain America', 'Thor'],\n",
    "    ['Iron Man', 'Hulk', 'Black Widow'],\n",
    "    ['Avengers', 'Thor', 'Black Widow'],\n",
    "    ['Captain America', 'Thor', 'Hulk']\n",
    "]\n",
    "\n",
    "# Convert to DataFrame (one-hot encoded format)\n",
    "from mlxtend.preprocessing import TransactionEncoder\n",
    "\n",
    "te = TransactionEncoder()\n",
    "te_ary = te.fit(dataset).transform(dataset)\n",
    "df = pd.DataFrame(te_ary, columns=te.columns_)\n",
    "\n",
    "print(\" Movie Dataset (One-Hot Encoded):\\n\")\n",
    "print(df.head())\n",
    "\n",
    "# -----------------------------\n",
    "# Step 2: Apply Apriori Algorithm\n",
    "# -----------------------------\n",
    "frequent_itemsets = apriori(df, min_support=0.3, use_colnames=True)\n",
    "print(\"\\n Frequent Itemsets:\\n\")\n",
    "print(frequent_itemsets)\n",
    "\n",
    "# -----------------------------\n",
    "# Step 3: Generate Association Rules\n",
    "# -----------------------------\n",
    "rules = association_rules(frequent_itemsets, metric=\"lift\", min_threshold=1.0)\n",
    "rules = rules.sort_values(by='lift', ascending=False)\n",
    "print(\"\\n Association Rules:\\n\")\n",
    "print(rules[['antecedents', 'consequents', 'support', 'confidence', 'lift']])\n",
    "\n",
    "# -----------------------------\n",
    "# Step 4: Example Recommendation\n",
    "# -----------------------------\n",
    "# Suppose a user watched 'Iron Man' and 'Avengers'\n",
    "# We can recommend the consequent with highest confidence\n",
    "\n",
    "watched = {'Iron Man', 'Avengers'}\n",
    "recommendations = []\n",
    "\n",
    "for idx, row in rules.iterrows():\n",
    "    if watched.issuperset(row['antecedents']):\n",
    "        recommendations.append(list(row['consequents']))\n",
    "\n",
    "# Flatten list and remove duplicates\n",
    "recommendations = list(set([item for sublist in recommendations for item in sublist]))\n",
    "\n",
    "print(\"\\n Based on movies watched\", watched, \"recommend:\", recommendations)\n"
   ]
  },
  {
   "cell_type": "code",
   "execution_count": 4,
   "id": "8e77a853-9e22-4344-82c9-d53ff07df214",
   "metadata": {},
   "outputs": [
    {
     "name": "stdout",
     "output_type": "stream",
     "text": [
      "Requirement already satisfied: mlxtend in c:\\users\\prithvi\\appdata\\local\\programs\\python\\python313\\lib\\site-packages (0.23.4)\n",
      "Requirement already satisfied: scipy>=1.2.1 in c:\\users\\prithvi\\appdata\\local\\programs\\python\\python313\\lib\\site-packages (from mlxtend) (1.16.1)\n",
      "Requirement already satisfied: numpy>=1.16.2 in c:\\users\\prithvi\\appdata\\local\\programs\\python\\python313\\lib\\site-packages (from mlxtend) (2.3.2)\n",
      "Requirement already satisfied: pandas>=0.24.2 in c:\\users\\prithvi\\appdata\\local\\programs\\python\\python313\\lib\\site-packages (from mlxtend) (2.3.2)\n",
      "Requirement already satisfied: scikit-learn>=1.3.1 in c:\\users\\prithvi\\appdata\\local\\programs\\python\\python313\\lib\\site-packages (from mlxtend) (1.7.1)\n",
      "Requirement already satisfied: matplotlib>=3.0.0 in c:\\users\\prithvi\\appdata\\local\\programs\\python\\python313\\lib\\site-packages (from mlxtend) (3.10.6)\n",
      "Requirement already satisfied: joblib>=0.13.2 in c:\\users\\prithvi\\appdata\\local\\programs\\python\\python313\\lib\\site-packages (from mlxtend) (1.5.2)\n",
      "Requirement already satisfied: contourpy>=1.0.1 in c:\\users\\prithvi\\appdata\\local\\programs\\python\\python313\\lib\\site-packages (from matplotlib>=3.0.0->mlxtend) (1.3.3)\n",
      "Requirement already satisfied: cycler>=0.10 in c:\\users\\prithvi\\appdata\\local\\programs\\python\\python313\\lib\\site-packages (from matplotlib>=3.0.0->mlxtend) (0.12.1)\n",
      "Requirement already satisfied: fonttools>=4.22.0 in c:\\users\\prithvi\\appdata\\local\\programs\\python\\python313\\lib\\site-packages (from matplotlib>=3.0.0->mlxtend) (4.59.2)\n",
      "Requirement already satisfied: kiwisolver>=1.3.1 in c:\\users\\prithvi\\appdata\\local\\programs\\python\\python313\\lib\\site-packages (from matplotlib>=3.0.0->mlxtend) (1.4.9)\n",
      "Requirement already satisfied: packaging>=20.0 in c:\\users\\prithvi\\appdata\\local\\programs\\python\\python313\\lib\\site-packages (from matplotlib>=3.0.0->mlxtend) (25.0)\n",
      "Requirement already satisfied: pillow>=8 in c:\\users\\prithvi\\appdata\\local\\programs\\python\\python313\\lib\\site-packages (from matplotlib>=3.0.0->mlxtend) (11.3.0)\n",
      "Requirement already satisfied: pyparsing>=2.3.1 in c:\\users\\prithvi\\appdata\\local\\programs\\python\\python313\\lib\\site-packages (from matplotlib>=3.0.0->mlxtend) (3.2.3)\n",
      "Requirement already satisfied: python-dateutil>=2.7 in c:\\users\\prithvi\\appdata\\local\\programs\\python\\python313\\lib\\site-packages (from matplotlib>=3.0.0->mlxtend) (2.9.0.post0)\n",
      "Requirement already satisfied: pytz>=2020.1 in c:\\users\\prithvi\\appdata\\local\\programs\\python\\python313\\lib\\site-packages (from pandas>=0.24.2->mlxtend) (2025.2)\n",
      "Requirement already satisfied: tzdata>=2022.7 in c:\\users\\prithvi\\appdata\\local\\programs\\python\\python313\\lib\\site-packages (from pandas>=0.24.2->mlxtend) (2025.2)\n",
      "Requirement already satisfied: six>=1.5 in c:\\users\\prithvi\\appdata\\local\\programs\\python\\python313\\lib\\site-packages (from python-dateutil>=2.7->matplotlib>=3.0.0->mlxtend) (1.17.0)\n",
      "Requirement already satisfied: threadpoolctl>=3.1.0 in c:\\users\\prithvi\\appdata\\local\\programs\\python\\python313\\lib\\site-packages (from scikit-learn>=1.3.1->mlxtend) (3.6.0)\n",
      "Note: you may need to restart the kernel to use updated packages.\n"
     ]
    }
   ],
   "source": [
    "pip install mlxtend\n"
   ]
  },
  {
   "cell_type": "code",
   "execution_count": null,
   "id": "fa480e3b-1b42-482a-a737-91011fa6810d",
   "metadata": {},
   "outputs": [],
   "source": []
  }
 ],
 "metadata": {
  "kernelspec": {
   "display_name": "Python 3 (ipykernel)",
   "language": "python",
   "name": "python3"
  },
  "language_info": {
   "codemirror_mode": {
    "name": "ipython",
    "version": 3
   },
   "file_extension": ".py",
   "mimetype": "text/x-python",
   "name": "python",
   "nbconvert_exporter": "python",
   "pygments_lexer": "ipython3",
   "version": "3.13.7"
  }
 },
 "nbformat": 4,
 "nbformat_minor": 5
}
