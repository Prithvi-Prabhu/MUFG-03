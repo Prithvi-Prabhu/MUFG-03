{
 "cells": [
  {
   "cell_type": "code",
   "execution_count": 3,
   "id": "85de6f25-2b12-4e89-9356-9c347e4c8419",
   "metadata": {},
   "outputs": [
    {
     "name": "stdout",
     "output_type": "stream",
     "text": [
      "Original Data:\n",
      "    values\n",
      "0       10\n",
      "1       12\n",
      "2       12\n",
      "3       13\n",
      "4       12\n",
      "5       11\n",
      "6      100\n",
      "7       12\n",
      "8       13\n",
      "9       14\n",
      "10      10\n",
      "11     250\n",
      "\n",
      "Outliers detected using IQR Method:\n",
      "    values\n",
      "6      100\n",
      "11     250\n"
     ]
    }
   ],
   "source": [
    "import numpy as np\n",
    "import pandas as pd\n",
    "\n",
    "\n",
    "# Sample dataset\n",
    "data = {\n",
    "    \"values\": [10, 12, 12, 13, 12, 11, 100, 12, 13, 14, 10, 250]\n",
    "}\n",
    "df = pd.DataFrame(data)\n",
    "print(\"Original Data:\")\n",
    "print(df)\n",
    "\n",
    "# --- IQR METHOD ---\n",
    "Q1 = df[\"values\"].quantile(0.25)\n",
    "Q3 = df[\"values\"].quantile(0.75)\n",
    "IQR = Q3 - Q1\n",
    "\n",
    "lower_bound = Q1 - 1.5 * IQR\n",
    "upper_bound = Q3 + 1.5 * IQR\n",
    "\n",
    "iqr_outliers = df[(df[\"values\"] < lower_bound) | (df[\"values\"] > upper_bound)]\n",
    "print(\"\\nOutliers detected using IQR Method:\")\n",
    "print(iqr_outliers)\n",
    "\n"
   ]
  },
  {
   "cell_type": "code",
   "execution_count": 5,
   "id": "00082ba3-3ad8-4ed1-a95f-b2f16b50756a",
   "metadata": {},
   "outputs": [
    {
     "name": "stdout",
     "output_type": "stream",
     "text": [
      "Original Data:\n",
      "    values\n",
      "0       10\n",
      "1       12\n",
      "2       12\n",
      "3       13\n",
      "4       12\n",
      "5       11\n",
      "6      100\n",
      "7       12\n",
      "8       13\n",
      "9       14\n",
      "10      10\n",
      "11     250\n",
      "\n",
      "Mean: 39.083333333333336  | Std Dev: 71.0959125961457\n",
      "\n",
      "Z-Scores (manual):\n",
      "0    -0.409072\n",
      "1    -0.380941\n",
      "2    -0.380941\n",
      "3    -0.366875\n",
      "4    -0.380941\n",
      "5    -0.395006\n",
      "6     0.856824\n",
      "7    -0.380941\n",
      "8    -0.366875\n",
      "9    -0.352810\n",
      "10   -0.409072\n",
      "11    2.966650\n",
      "Name: values, dtype: float64\n",
      "\n",
      "Outliers detected using Z-Score (manual):\n",
      "Empty DataFrame\n",
      "Columns: [values]\n",
      "Index: []\n"
     ]
    }
   ],
   "source": [
    "import numpy as np\n",
    "import pandas as pd\n",
    "\n",
    "# Sample dataset\n",
    "data = {\"values\": [10, 12, 12, 13, 12, 11, 100, 12, 13, 14, 10, 250]}\n",
    "df = pd.DataFrame(data)\n",
    "\n",
    "# --- Manual Z-Score Calculation ---\n",
    "mean_val = df[\"values\"].mean()\n",
    "std_val = df[\"values\"].std()\n",
    "\n",
    "z_scores = (df[\"values\"] - mean_val) / std_val\n",
    "abs_z_scores = np.abs(z_scores)\n",
    "\n",
    "# Threshold for outliers\n",
    "threshold = 3\n",
    "zscore_outliers = df[abs_z_scores > threshold]\n",
    "\n",
    "print(\"Original Data:\")\n",
    "print(df)\n",
    "print(\"\\nMean:\", mean_val, \" | Std Dev:\", std_val)\n",
    "print(\"\\nZ-Scores (manual):\")\n",
    "print(z_scores)\n",
    "print(\"\\nOutliers detected using Z-Score (manual):\")\n",
    "print(zscore_outliers)\n"
   ]
  },
  {
   "cell_type": "code",
   "execution_count": null,
   "id": "466dfbc3-5983-4f82-98d2-58e649c4bb23",
   "metadata": {},
   "outputs": [],
   "source": []
  }
 ],
 "metadata": {
  "kernelspec": {
   "display_name": "Python 3 (ipykernel)",
   "language": "python",
   "name": "python3"
  },
  "language_info": {
   "codemirror_mode": {
    "name": "ipython",
    "version": 3
   },
   "file_extension": ".py",
   "mimetype": "text/x-python",
   "name": "python",
   "nbconvert_exporter": "python",
   "pygments_lexer": "ipython3",
   "version": "3.13.7"
  }
 },
 "nbformat": 4,
 "nbformat_minor": 5
}
