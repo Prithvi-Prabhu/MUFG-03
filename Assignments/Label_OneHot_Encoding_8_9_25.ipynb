{
 "cells": [
  {
   "cell_type": "code",
   "execution_count": 1,
   "id": "cfe437f4-6e6f-4cd4-8ea9-dbaede7c8fdb",
   "metadata": {},
   "outputs": [
    {
     "name": "stdout",
     "output_type": "stream",
     "text": [
      "Requirement already satisfied: scikit-learn in c:\\users\\prithvi\\appdata\\local\\programs\\python\\python313\\lib\\site-packages (1.7.1)\n",
      "Requirement already satisfied: numpy>=1.22.0 in c:\\users\\prithvi\\appdata\\local\\programs\\python\\python313\\lib\\site-packages (from scikit-learn) (2.3.2)\n",
      "Requirement already satisfied: scipy>=1.8.0 in c:\\users\\prithvi\\appdata\\local\\programs\\python\\python313\\lib\\site-packages (from scikit-learn) (1.16.1)\n",
      "Requirement already satisfied: joblib>=1.2.0 in c:\\users\\prithvi\\appdata\\local\\programs\\python\\python313\\lib\\site-packages (from scikit-learn) (1.5.2)\n",
      "Requirement already satisfied: threadpoolctl>=3.1.0 in c:\\users\\prithvi\\appdata\\local\\programs\\python\\python313\\lib\\site-packages (from scikit-learn) (3.6.0)\n",
      "Note: you may need to restart the kernel to use updated packages.\n"
     ]
    }
   ],
   "source": [
    "pip install scikit-learn\n"
   ]
  },
  {
   "cell_type": "code",
   "execution_count": 2,
   "id": "2648f23a-fe31-4973-9f54-920f36947e82",
   "metadata": {},
   "outputs": [
    {
     "name": "stdout",
     "output_type": "stream",
     "text": [
      "Original Data:\n",
      "   Color Size\n",
      "0    Red    S\n",
      "1   Blue    M\n",
      "2  Green    L\n",
      "3    Red   XL\n",
      "4   Blue    M\n",
      "\n",
      "Label Encoded Data:\n",
      "   Color Size  Color_Label\n",
      "0    Red    S            2\n",
      "1   Blue    M            0\n",
      "2  Green    L            1\n",
      "3    Red   XL            2\n",
      "4   Blue    M            0\n",
      "\n",
      "One Hot Encoded Data:\n",
      "   Color_Blue  Color_Green  Color_Red  Size_L  Size_M  Size_S  Size_XL\n",
      "0       False        False       True   False   False    True    False\n",
      "1        True        False      False   False    True   False    False\n",
      "2       False         True      False    True   False   False    False\n",
      "3       False        False       True   False   False   False     True\n",
      "4        True        False      False   False    True   False    False\n"
     ]
    }
   ],
   "source": [
    "import pandas as pd\n",
    "from sklearn.preprocessing import LabelEncoder, OneHotEncoder\n",
    "\n",
    "# Sample categorical data\n",
    "data = {\n",
    "    \"Color\": [\"Red\", \"Blue\", \"Green\", \"Red\", \"Blue\"],\n",
    "    \"Size\": [\"S\", \"M\", \"L\", \"XL\", \"M\"]\n",
    "}\n",
    "df = pd.DataFrame(data)\n",
    "print(\"Original Data:\")\n",
    "print(df)\n",
    "\n",
    "# --- Label Encoding (converts categories into numbers) ---\n",
    "le = LabelEncoder()\n",
    "df[\"Color_Label\"] = le.fit_transform(df[\"Color\"])\n",
    "print(\"\\nLabel Encoded Data:\")\n",
    "print(df)\n",
    "\n",
    "# --- One Hot Encoding (creates binary columns for each category) ---\n",
    "df_onehot = pd.get_dummies(df[[\"Color\", \"Size\"]], drop_first=False)\n",
    "print(\"\\nOne Hot Encoded Data:\")\n",
    "print(df_onehot)\n"
   ]
  },
  {
   "cell_type": "code",
   "execution_count": null,
   "id": "2c3e57f0-c1dd-4b8d-bfe6-d244867bdca5",
   "metadata": {},
   "outputs": [],
   "source": [
    "Label Encoding assigns a numeric value to each category (Red=2, Blue=0, Green=1). But it may imply an order, which is not always desired.\n",
    "\n",
    "One Hot Encoding creates separate binary columns (isRed, isBlue, etc.), avoiding order assumptions."
   ]
  },
  {
   "cell_type": "code",
   "execution_count": null,
   "id": "50453680-6317-45c6-977e-f31184792ec8",
   "metadata": {},
   "outputs": [],
   "source": []
  }
 ],
 "metadata": {
  "kernelspec": {
   "display_name": "Python 3 (ipykernel)",
   "language": "python",
   "name": "python3"
  },
  "language_info": {
   "codemirror_mode": {
    "name": "ipython",
    "version": 3
   },
   "file_extension": ".py",
   "mimetype": "text/x-python",
   "name": "python",
   "nbconvert_exporter": "python",
   "pygments_lexer": "ipython3",
   "version": "3.13.7"
  }
 },
 "nbformat": 4,
 "nbformat_minor": 5
}
